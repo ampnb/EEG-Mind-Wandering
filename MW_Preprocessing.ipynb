{
  "nbformat": 4,
  "nbformat_minor": 0,
  "metadata": {
    "colab": {
      "provenance": [],
      "authorship_tag": "ABX9TyP24Q9DmGmpuwYS4c0DHnm/",
      "include_colab_link": true
    },
    "kernelspec": {
      "name": "python3",
      "display_name": "Python 3"
    },
    "language_info": {
      "name": "python"
    }
  },
  "cells": [
    {
      "cell_type": "markdown",
      "metadata": {
        "id": "view-in-github",
        "colab_type": "text"
      },
      "source": [
        "<a href=\"https://colab.research.google.com/github/ampnb/EEG-Mind-Wandering/blob/main/MW_Preprocessing.ipynb\" target=\"_parent\"><img src=\"https://colab.research.google.com/assets/colab-badge.svg\" alt=\"Open In Colab\"/></a>"
      ]
    },
    {
      "cell_type": "markdown",
      "source": [
        "Script for preprocessing EEG data using the MNE-Python library.\n",
        "\n",
        "1) Load the data\n",
        "\n",
        "2) Filter the data\n",
        "\n",
        "3) Remove bad channels (optional)\n",
        "\n",
        "4) Re-reference the data (optional)\n",
        "\n",
        "5) Apply Independent Component Analysis (ICA) to remove artifacts"
      ],
      "metadata": {
        "id": "jysquhjbhSaK"
      }
    },
    {
      "cell_type": "code",
      "execution_count": null,
      "metadata": {
        "id": "n7FplMfvfbsp"
      },
      "outputs": [],
      "source": [
        "import os\n",
        "import mne\n",
        "\n",
        "def load_raw_data(filename):\n",
        "    raw = mne.io.read_raw_fif(filename, preload=True)\n",
        "    return raw\n",
        "\n",
        "def filter_data(raw, low_freq=1.0, high_freq=40.0):\n",
        "    raw.filter(l_freq=low_freq, h_freq=high_freq)\n",
        "    return raw\n",
        "\n",
        "def remove_bad_channels(raw, bad_channels=None):\n",
        "    if bad_channels:\n",
        "        raw.info['bads'] = bad_channels\n",
        "        raw.interpolate_bads()\n",
        "    return raw\n",
        "\n",
        "def re_reference(raw, ref_channels=None):\n",
        "    if ref_channels:\n",
        "        raw.set_eeg_reference(ref_channels=ref_channels)\n",
        "    return raw\n",
        "\n",
        "def apply_ica(raw, n_components=8, random_state=42):\n",
        "    ica = mne.preprocessing.ICA(n_components=n_components, random_state=random_state, method='fastica')\n",
        "    ica.fit(raw)\n",
        "    raw = ica.apply(raw)\n",
        "    return raw\n",
        "\n",
        "def preprocess_eeg_data(input_path, output_path):\n",
        "    raw = load_raw_data(input_path)\n",
        "\n",
        "    # Filter the data\n",
        "    raw = filter_data(raw)\n",
        "\n",
        "    # Remove bad channels (if any)\n",
        "    # Example: bad_channels = ['Fp1', 'F7']\n",
        "    raw = remove_bad_channels(raw, bad_channels=None)\n",
        "\n",
        "    # Re-reference the data (if needed)\n",
        "    # Example: ref_channels = ['TP9', 'TP10']\n",
        "    raw = re_reference(raw, ref_channels=None)\n",
        "\n",
        "    # Apply Independent Component Analysis (ICA) to remove artifacts\n",
        "    raw = apply_ica(raw)\n",
        "\n",
        "    # Save preprocessed data\n",
        "    raw.save(output_path, overwrite=True)\n",
        "\n",
        "if __name__ == \"__main__\":\n",
        "    input_path = './Participant1_meditation_trial1_raw.fif'\n",
        "    output_path = './Participant1_meditation_trial1_preprocessed.fif'\n",
        "    preprocess_eeg_data(input_path, output_path)"
      ]
    }
  ]
}