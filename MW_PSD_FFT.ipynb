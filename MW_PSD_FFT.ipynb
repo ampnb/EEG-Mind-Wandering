{
  "nbformat": 4,
  "nbformat_minor": 0,
  "metadata": {
    "colab": {
      "provenance": [],
      "authorship_tag": "ABX9TyMI2ALnzkucZW90q4iyflu2",
      "include_colab_link": true
    },
    "kernelspec": {
      "name": "python3",
      "display_name": "Python 3"
    },
    "language_info": {
      "name": "python"
    }
  },
  "cells": [
    {
      "cell_type": "markdown",
      "metadata": {
        "id": "view-in-github",
        "colab_type": "text"
      },
      "source": [
        "<a href=\"https://colab.research.google.com/github/ampnb/EEG-Mind-Wandering/blob/main/MW_PSD_FFT.ipynb\" target=\"_parent\"><img src=\"https://colab.research.google.com/assets/colab-badge.svg\" alt=\"Open In Colab\"/></a>"
      ]
    },
    {
      "cell_type": "code",
      "execution_count": null,
      "metadata": {
        "id": "ddCEKYili4Jn"
      },
      "outputs": [],
      "source": [
        "import os\n",
        "import mne\n",
        "import numpy as np\n",
        "import matplotlib.pyplot as plt\n",
        "\n",
        "def compute_psd(raw, fmin=1, fmax=40, n_fft=2048, n_overlap=0):\n",
        "    psds, freqs = mne.time_frequency.psd_multitaper(raw, fmin=fmin, fmax=fmax, n_fft=n_fft, n_overlap=n_overlap)\n",
        "    return psds, freqs\n",
        "\n",
        "def compute_fft(raw, fmin=1, fmax=40):\n",
        "    data, times = raw[:]\n",
        "    fft = np.fft.rfft(data)\n",
        "    freqs = np.fft.rfftfreq(data.shape[-1], d=1 / raw.info['sfreq'])\n",
        "    fft = fft[:, (freqs >= fmin) & (freqs <= fmax)]\n",
        "    freqs = freqs[(freqs >= fmin) & (freqs <= fmax)]\n",
        "    return fft, freqs\n",
        "\n",
        "def plot_psd(psd, freqs, channel_names):\n",
        "    plt.figure()\n",
        "    for i, channel in enumerate(channel_names):\n",
        "        plt.semilogy(freqs, psd[i], label=channel)\n",
        "    plt.xlabel('Frequency (Hz)')\n",
        "    plt.ylabel('PSD (dB)')\n",
        "    plt.legend()\n",
        "    plt.show()\n",
        "\n",
        "def plot_fft(fft, freqs, channel_names):\n",
        "    plt.figure()\n",
        "    for i, channel in enumerate(channel_names):\n",
        "        plt.plot(freqs, np.abs(fft[i]), label=channel)\n",
        "    plt.xlabel('Frequency (Hz)')\n",
        "    plt.ylabel('Amplitude')\n",
        "    plt.legend()\n",
        "    plt.show()\n",
        "\n",
        "if __name__ == \"__main__\":\n",
        "    preprocessed_data_path = './Participant1_meditation_trial1_preprocessed.fif'\n",
        "    raw = mne.io.read_raw_fif(preprocessed_data_path, preload=True)\n",
        "\n",
        "    # Compute PSD\n",
        "    psds, freqs = compute_psd(raw)\n",
        "    channel_names = raw.info['ch_names']\n",
        "    plot_psd(psds, freqs, channel_names)\n",
        "\n",
        "    # Compute FFT\n",
        "    fft, freqs = compute_fft(raw)\n",
        "    plot_fft(fft, freqs, channel_names)"
      ]
    }
  ]
}