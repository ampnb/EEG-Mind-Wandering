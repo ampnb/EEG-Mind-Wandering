{
  "nbformat": 4,
  "nbformat_minor": 0,
  "metadata": {
    "colab": {
      "provenance": [],
      "authorship_tag": "ABX9TyMtLv/BXumsFZ97bFMYC0dL",
      "include_colab_link": true
    },
    "kernelspec": {
      "name": "python3",
      "display_name": "Python 3"
    },
    "language_info": {
      "name": "python"
    }
  },
  "cells": [
    {
      "cell_type": "markdown",
      "metadata": {
        "id": "view-in-github",
        "colab_type": "text"
      },
      "source": [
        "<a href=\"https://colab.research.google.com/github/ampnb/EEG-Mind-Wandering/blob/main/MW_Entropy_Complexity.ipynb\" target=\"_parent\"><img src=\"https://colab.research.google.com/assets/colab-badge.svg\" alt=\"Open In Colab\"/></a>"
      ]
    },
    {
      "cell_type": "code",
      "source": [
        "pip install nolds"
      ],
      "metadata": {
        "colab": {
          "base_uri": "https://localhost:8080/"
        },
        "id": "6OjogRdNjPkr",
        "outputId": "0cddb5c4-53e3-4665-fb1d-e6e433cab480"
      },
      "execution_count": 1,
      "outputs": [
        {
          "output_type": "stream",
          "name": "stdout",
          "text": [
            "Looking in indexes: https://pypi.org/simple, https://us-python.pkg.dev/colab-wheels/public/simple/\n",
            "Collecting nolds\n",
            "  Downloading nolds-0.5.2-py2.py3-none-any.whl (39 kB)\n",
            "Requirement already satisfied: future in /usr/local/lib/python3.10/dist-packages (from nolds) (0.18.3)\n",
            "Requirement already satisfied: numpy in /usr/local/lib/python3.10/dist-packages (from nolds) (1.22.4)\n",
            "Requirement already satisfied: setuptools in /usr/local/lib/python3.10/dist-packages (from nolds) (67.7.2)\n",
            "Installing collected packages: nolds\n",
            "Successfully installed nolds-0.5.2\n"
          ]
        }
      ]
    },
    {
      "cell_type": "code",
      "execution_count": null,
      "metadata": {
        "id": "m3mdyYcojHqx"
      },
      "outputs": [],
      "source": [
        "import os\n",
        "import mne\n",
        "import nolds\n",
        "import numpy as np\n",
        "import matplotlib.pyplot as plt\n",
        "\n",
        "def compute_sample_entropy(raw, emb_dim=2, tolerance=0.2):\n",
        "    data, times = raw[:]\n",
        "    sample_entropies = [nolds.sampen(channel, emb_dim, tolerance) for channel in data]\n",
        "    return np.array(sample_entropies)\n",
        "\n",
        "def plot_sample_entropy(sample_entropies, channel_names):\n",
        "    plt.figure()\n",
        "    plt.bar(channel_names, sample_entropies)\n",
        "    plt.xlabel('Channels')\n",
        "    plt.ylabel('Sample Entropy')\n",
        "    plt.show()\n",
        "\n",
        "if __name__ == \"__main__\":\n",
        "    preprocessed_data_path = './Participant1_meditation_trial1_preprocessed.fif'\n",
        "    raw = mne.io.read_raw_fif(preprocessed_data_path, preload=True)\n",
        "\n",
        "    # Compute sample entropy\n",
        "    sample_entropies = compute_sample_entropy(raw)\n",
        "    channel_names = raw.info['ch_names']\n",
        "    plot_sample_entropy(sample_entropies, channel_names)"
      ]
    }
  ]
}