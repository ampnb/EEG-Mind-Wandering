{
  "nbformat": 4,
  "nbformat_minor": 0,
  "metadata": {
    "colab": {
      "provenance": [],
      "authorship_tag": "ABX9TyNWgGJgz/jsRFqSjeUwYi4g",
      "include_colab_link": true
    },
    "kernelspec": {
      "name": "python3",
      "display_name": "Python 3"
    },
    "language_info": {
      "name": "python"
    }
  },
  "cells": [
    {
      "cell_type": "markdown",
      "metadata": {
        "id": "view-in-github",
        "colab_type": "text"
      },
      "source": [
        "<a href=\"https://colab.research.google.com/github/ampnb/EEG-Mind-Wandering/blob/main/EEG_MindWandering_Recording.ipynb\" target=\"_parent\"><img src=\"https://colab.research.google.com/assets/colab-badge.svg\" alt=\"Open In Colab\"/></a>"
      ]
    },
    {
      "cell_type": "markdown",
      "source": [
        "# **Using Display!**"
      ],
      "metadata": {
        "id": "LjZ-92QSaFHi"
      }
    },
    {
      "cell_type": "code",
      "execution_count": null,
      "metadata": {
        "id": "o6jCajmwX9Pb"
      },
      "outputs": [],
      "source": [
        "import time\n",
        "import mne\n",
        "import os\n",
        "import tkinter as tk\n",
        "\n",
        "from brainflow.board_shim import BoardShim, BrainFlowInputParams, BoardIds, BrainFlowPresets\n",
        "\n",
        "def display_instructions(root, label, text):\n",
        "    label.config(text=text)\n",
        "    root.update()\n",
        "\n",
        "def run_condition_instructions(root, label, condition):\n",
        "    instructions = f\"Now, {condition} for 5 minutes.\\nPress ENTER when you are ready.\"\n",
        "    display_instructions(root, label, instructions)\n",
        "    root.bind('<Return>', lambda event: root.quit())\n",
        "    root.mainloop()\n",
        "\n",
        "def main():\n",
        "    BOARD_ID = 8\n",
        "    PARTICIPANT_ID = \"Participant1\"\n",
        "    RECORDING_DIR = \"./\"\n",
        "    n_trials = 4\n",
        "    trial_duration = 5 * 60\n",
        "\n",
        "    # Setup the graphical display\n",
        "    root = tk.Tk()\n",
        "    root.attributes(\"-fullscreen\", True)\n",
        "\n",
        "    label = tk.Label(root, text=\"\", font=(\"Helvetica\", 24), wraplength=root.winfo_screenwidth())\n",
        "    label.pack(pady=(root.winfo_screenheight() // 2) - 100)\n",
        "\n",
        "    BoardShim.enable_dev_board_logger()\n",
        "    params = BrainFlowInputParams()\n",
        "    board = BoardShim(BOARD_ID, params)\n",
        "    board.prepare_session()\n",
        "    board.start_stream()\n",
        "\n",
        "    # Resting state\n",
        "    display_instructions(root, label, \"Resting state recording in progress. Keep your eyes closed and relax.\")\n",
        "    time.sleep(5 * 60)  # 5 minutes for baseline recording\n",
        "\n",
        "    for trial in range(n_trials):\n",
        "        # Meditation condition\n",
        "        run_condition_instructions(root, label, \"focus on your breath or another object of attention (meditation condition)\")\n",
        "        data = record_eeg_data(board, trial_duration)\n",
        "        raw = getdata(data, BOARD_ID)\n",
        "        save_raw(raw, RECORDING_DIR, f\"{PARTICIPANT_ID}_meditation_trial{trial + 1}\")\n",
        "\n",
        "        # Mind-wandering condition\n",
        "        run_condition_instructions(root, label, \"let your thoughts wander freely without focusing on anything specific (mind-wandering condition)\")\n",
        "        data = record_eeg_data(board, trial_duration)\n",
        "        raw = getdata(data, BOARD_ID)\n",
        "        save_raw(raw, RECORDING_DIR, f\"{PARTICIPANT_ID}_mindwandering_trial{trial + 1}\")\n",
        "\n",
        "    board.stop_stream()\n",
        "    board.release_session()\n",
        "\n",
        "    # Close the tkinter window\n",
        "    root.destroy()\n",
        "\n",
        "def record_eeg_data(board, duration):\n",
        "    time.sleep(duration)\n",
        "    data = board.get_board_data()\n",
        "    return data\n",
        "\n",
        "# ... (The rest of the code remains the same) ...\n",
        "\n",
        "if __name__ == \"__main__\":\n",
        "    main()"
      ]
    },
    {
      "cell_type": "markdown",
      "source": [
        "# **Not Use Display!**"
      ],
      "metadata": {
        "id": "ZF5olmHAaJDE"
      }
    },
    {
      "cell_type": "code",
      "source": [
        "import time\n",
        "import mne\n",
        "import os\n",
        "\n",
        "from brainflow.board_shim import BoardShim, BrainFlowInputParams, BoardIds, BrainFlowPresets\n",
        "\n",
        "def run_condition_instructions(condition):\n",
        "    print(f\"Now, {condition} for 5 minutes.\")\n",
        "    print(\"Press ENTER when you are ready.\")\n",
        "    input()\n",
        "\n",
        "def main():\n",
        "    BOARD_ID = 8\n",
        "    PARTICIPANT_ID = \"Participant1\"\n",
        "    RECORDING_DIR = \"./\"\n",
        "    n_trials = 4\n",
        "    trial_duration = 5 * 60\n",
        "\n",
        "    BoardShim.enable_dev_board_logger()\n",
        "    params = BrainFlowInputParams()\n",
        "    board = BoardShim(BOARD_ID, params)\n",
        "    board.prepare_session()\n",
        "    board.start_stream()\n",
        "\n",
        "    # Resting state\n",
        "    print(\"Resting state recording in progress. Keep your eyes closed and relax.\")\n",
        "    time.sleep(5 * 60)  # 5 minutes for baseline recording\n",
        "\n",
        "    for trial in range(n_trials):\n",
        "        # Meditation condition\n",
        "        run_condition_instructions(\"focus on your breath or another object of attention (meditation condition)\")\n",
        "        data = record_eeg_data(board, trial_duration)\n",
        "        raw = getdata(data, BOARD_ID)\n",
        "        save_raw(raw, RECORDING_DIR, f\"{PARTICIPANT_ID}_meditation_trial{trial + 1}\")\n",
        "\n",
        "        # Mind-wandering condition\n",
        "        run_condition_instructions(\"let your thoughts wander freely without focusing on anything specific (mind-wandering condition)\")\n",
        "        data = record_eeg_data(board, trial_duration)\n",
        "        raw = getdata(data, BOARD_ID)\n",
        "        save_raw(raw, RECORDING_DIR, f\"{PARTICIPANT_ID}_mindwandering_trial{trial + 1}\")\n",
        "\n",
        "    board.stop_stream()\n",
        "    board.release_session()\n",
        "\n",
        "def record_eeg_data(board, duration):\n",
        "    time.sleep(duration)\n",
        "    data = board.get_board_data()\n",
        "    return data\n",
        "\n",
        "# ... (The rest of the code remains the same) ...\n",
        "\n",
        "if __name__ == \"__main__\":\n",
        "    main()"
      ],
      "metadata": {
        "id": "BDc1gJC1ZZUY"
      },
      "execution_count": null,
      "outputs": []
    },
    {
      "cell_type": "code",
      "source": [],
      "metadata": {
        "id": "WEVZP0-gZx6h"
      },
      "execution_count": null,
      "outputs": []
    }
  ]
}