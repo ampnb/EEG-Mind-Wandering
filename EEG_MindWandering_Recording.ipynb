{
  "nbformat": 4,
  "nbformat_minor": 0,
  "metadata": {
    "colab": {
      "provenance": [],
      "authorship_tag": "ABX9TyNx5QmH0vgaYfOtcPnTWaU0",
      "include_colab_link": true
    },
    "kernelspec": {
      "name": "python3",
      "display_name": "Python 3"
    },
    "language_info": {
      "name": "python"
    }
  },
  "cells": [
    {
      "cell_type": "markdown",
      "metadata": {
        "id": "view-in-github",
        "colab_type": "text"
      },
      "source": [
        "<a href=\"https://colab.research.google.com/github/ampnb/EEG-Meditation/blob/main/EEG_MindWandering_Recording.ipynb\" target=\"_parent\"><img src=\"https://colab.research.google.com/assets/colab-badge.svg\" alt=\"Open In Colab\"/></a>"
      ]
    },
    {
      "cell_type": "markdown",
      "source": [
        "# **Using Display!**"
      ],
      "metadata": {
        "id": "LjZ-92QSaFHi"
      }
    },
    {
      "cell_type": "code",
      "source": [
        "import tkinter as tk\n",
        "import time"
      ],
      "metadata": {
        "id": "21-5W0mSYNvx"
      },
      "execution_count": 1,
      "outputs": []
    },
    {
      "cell_type": "code",
      "execution_count": null,
      "metadata": {
        "id": "o6jCajmwX9Pb"
      },
      "outputs": [],
      "source": [
        "def display_instructions(root, text):\n",
        "    label.config(text=text)\n",
        "    root.update()\n",
        "\n",
        "def run_experiment(n_trials=4, trial_duration=5*60):\n",
        "    root = tk.Tk()\n",
        "    root.attributes(\"-fullscreen\", True)\n",
        "\n",
        "    label = tk.Label(root, text=\"\", font=(\"Helvetica\", 24), wraplength=root.winfo_screenwidth())\n",
        "    label.pack(pady=(root.winfo_screenheight() // 2) - 100)\n",
        "\n",
        "    # Display baseline recording instructions\n",
        "    display_instructions(root, \"Please relax for a few minutes with your eyes closed. The baseline recording will start soon.\")\n",
        "    time.sleep(5)\n",
        "\n",
        "    display_instructions(root, \"Baseline recording in progress. Keep your eyes closed and relax.\")\n",
        "    time.sleep(5 * 60)  # 5 minutes for baseline recording\n",
        "\n",
        "    for trial in range(n_trials):\n",
        "        # Meditation condition\n",
        "        display_instructions(root, \"Now, focus on your breath or another object of attention for 5 minutes. This is the meditation condition.\")\n",
        "        time.sleep(trial_duration)\n",
        "\n",
        "        # Mind-wandering condition\n",
        "        display_instructions(root, \"Now, let your thoughts wander freely without focusing on anything specific for 5 minutes. This is the mind-wandering condition.\")\n",
        "        time.sleep(trial_duration)\n",
        "\n",
        "    display_instructions(root, \"The experiment is now complete. Thank you for your participation!\")\n",
        "    time.sleep(5)\n",
        "    root.destroy()\n",
        "\n",
        "if __name__ == \"__main__\":\n",
        "    run_experiment()"
      ]
    },
    {
      "cell_type": "markdown",
      "source": [
        "# **Not Use Display!**"
      ],
      "metadata": {
        "id": "ZF5olmHAaJDE"
      }
    },
    {
      "cell_type": "code",
      "source": [
        "import time\n",
        "\n",
        "def display_instructions(text):\n",
        "    print(text)\n",
        "\n",
        "def run_experiment(n_trials=4, trial_duration=5*60):\n",
        "    # Display baseline recording instructions\n",
        "    display_instructions(\"Please relax for a few minutes with your eyes closed. The baseline recording will start soon.\")\n",
        "    time.sleep(5)\n",
        "\n",
        "    display_instructions(\"Baseline recording in progress. Keep your eyes closed and relax.\")\n",
        "    time.sleep(5 * 60)  # 5 minutes for baseline recording\n",
        "\n",
        "    for trial in range(n_trials):\n",
        "        # Meditation condition\n",
        "        display_instructions(\"Now, focus on your breath or another object of attention for 5 minutes. This is the meditation condition.\")\n",
        "        time.sleep(trial_duration)\n",
        "\n",
        "        # Mind-wandering condition\n",
        "        display_instructions(\"Now, let your thoughts wander freely without focusing on anything specific for 5 minutes. This is the mind-wandering condition.\")\n",
        "        time.sleep(trial_duration)\n",
        "\n",
        "    display_instructions(\"The experiment is now complete. Thank you for your participation!\")\n",
        "\n",
        "if __name__ == \"__main__\":\n",
        "    run_experiment()"
      ],
      "metadata": {
        "id": "BDc1gJC1ZZUY"
      },
      "execution_count": null,
      "outputs": []
    },
    {
      "cell_type": "code",
      "source": [],
      "metadata": {
        "id": "WEVZP0-gZx6h"
      },
      "execution_count": null,
      "outputs": []
    }
  ]
}