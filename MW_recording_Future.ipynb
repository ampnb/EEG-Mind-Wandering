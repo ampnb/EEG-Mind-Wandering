{
  "nbformat": 4,
  "nbformat_minor": 0,
  "metadata": {
    "colab": {
      "provenance": [],
      "authorship_tag": "ABX9TyOLy5dZpwYNmW7zuKy5ay0t",
      "include_colab_link": true
    },
    "kernelspec": {
      "name": "python3",
      "display_name": "Python 3"
    },
    "language_info": {
      "name": "python"
    }
  },
  "cells": [
    {
      "cell_type": "markdown",
      "metadata": {
        "id": "view-in-github",
        "colab_type": "text"
      },
      "source": [
        "<a href=\"https://colab.research.google.com/github/ampnb/EEG-Mind-Wandering/blob/main/MW_recording_Future.ipynb\" target=\"_parent\"><img src=\"https://colab.research.google.com/assets/colab-badge.svg\" alt=\"Open In Colab\"/></a>"
      ]
    },
    {
      "cell_type": "code",
      "execution_count": null,
      "metadata": {
        "id": "eueHAnxzsdWV"
      },
      "outputs": [],
      "source": [
        "import time\n",
        "import os\n",
        "import mne\n",
        "from brainflow.board_shim import BoardShim, BrainFlowInputParams, BoardIds\n",
        "from psychopy import visual, core\n",
        "\n",
        "def main():\n",
        "    BOARD_ID = BoardIds.UNICORN_BOARD.value\n",
        "    RECORDING_DIR = \"./\"\n",
        "    PARTICIPANT_ID = \"participant_001\"\n",
        "    CONDITION_ORDER = ['PAST+', 'PAST-', 'FUTURE+', 'FUTURE-']\n",
        "\n",
        "    BoardShim.enable_dev_board_logger()\n",
        "    params = BrainFlowInputParams()\n",
        "    board = BoardShim(BOARD_ID, params)\n",
        "    board.prepare_session()\n",
        "    board.start_stream()\n",
        "\n",
        "    win = visual.Window(size=(800, 600), fullscr=False, units='norm', color=[-1, -1, -1])\n",
        "\n",
        "    # Counterbalance condition order\n",
        "    random.shuffle(CONDITION_ORDER)\n",
        "\n",
        "    for condition in CONDITION_ORDER:\n",
        "        # Present cue for 15 seconds\n",
        "        cue = visual.TextStim(win, text=condition, color='white', height=0.1)\n",
        "        cue.draw()\n",
        "        win.flip()\n",
        "        time.sleep(15)\n",
        "\n",
        "        # Record EEG data during the 5-minute mind-wandering period\n",
        "        start_time = time.time()\n",
        "        while time.time() - start_time < 300:\n",
        "            pass  # Replace this with a call to the function that records data for the given period (e.g., board.get_board_data())\n",
        "\n",
        "        # Present Likert scale for 30 seconds\n",
        "        likert = visual.TextStim(win, text=\"Rate the emotional valence of your thoughts (-5 to +5)\", color='white', height=0.1)\n",
        "        likert.draw()\n",
        "        win.flip()\n",
        "        time.sleep(30)\n",
        "\n",
        "        # Rest period for 60 seconds\n",
        "        win.flip()\n",
        "        time.sleep(60)\n",
        "\n",
        "    # Stop recording and save data\n",
        "    data = board.get_board_data()\n",
        "    board.stop_stream()\n",
        "    board.release_session()\n",
        "    win.close()\n",
        "\n",
        "    # Process and save the data\n",
        "    raw = getdata(data, BOARD_ID)\n",
        "    save_raw(raw, RECORDING_DIR, PARTICIPANT_ID)\n",
        "\n",
        "def getdata(data, board_id):\n",
        "    eeg_channels = BoardShim.get_eeg_channels(board_id)\n",
        "    data = data[eeg_channels, :]\n",
        "    ch_names = BoardShim.get_eeg_names(board_id)\n",
        "    ch_types = ['eeg'] * len(eeg_channels)\n",
        "    sfreq = BoardShim.get_sampling_rate(board_id)\n",
        "\n",
        "    info = mne.create_info(ch_names=ch_names, sfreq=sfreq, ch_types=ch_types)\n",
        "    raw = mne.io.RawArray(data, info)\n",
        "    montage = mne.channels.make_standard_montage('standard_1020')\n",
        "    raw.set_montage(montage)\n",
        "\n",
        "    return raw\n",
        "\n",
        "def save_raw(raw, dir, participant_id):\n",
        "    folder_path = create_session_folder(participant_id, dir)\n",
        "    raw.save(os.path.join(folder_path, f'{participant_id}_emotion_mind_wandering_raw.fif'), overwrite=True)\n",
        "    return os.path.basename(folder_path)\n",
        "\n",
        "def create_session_folder(subj, dir):\n",
        "    base_path = os.getcwd() + \"/\"\n",
        "    dir = base_path + dir\n",
        "    folder_name = f'{subj}'\n",
        "    if os.path.isdir(os.path.join(dir, folder_name)):\n",
        "        folder_path = os.path.join(dir, folder_name)\n",
        "    else:\n",
        "        folder_path = os.path.join"
      ]
    }
  ]
}